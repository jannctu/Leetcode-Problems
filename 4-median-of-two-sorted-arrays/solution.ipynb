{
 "cells": [
  {
   "cell_type": "code",
   "execution_count": null,
   "metadata": {},
   "outputs": [],
   "source": [
    "class Solution:\n",
    "    def findMedianSortedArrays(self, nums1: List[int], nums2: List[int]) -> float:\n",
    "        nums1.extend(nums2)\n",
    "        nums1.sort()\n",
    "        if len(nums1) % 2 == 0:\n",
    "            return (nums1[len(nums1)//2] + nums1[len(nums1)//2 - 1]) / 2\n",
    "        else:\n",
    "            return nums1[len(nums1)//2]"
   ]
  }
 ],
 "metadata": {
  "language_info": {
   "name": "python"
  }
 },
 "nbformat": 4,
 "nbformat_minor": 2
}
